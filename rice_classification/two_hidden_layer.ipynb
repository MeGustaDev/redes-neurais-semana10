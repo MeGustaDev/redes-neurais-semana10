{
 "cells": [
  {
   "cell_type": "code",
   "execution_count": 100,
   "metadata": {},
   "outputs": [],
   "source": [
    "# bibliotecas básicas\n",
    "import matplotlib.pyplot as plt\n",
    "from matplotlib.colors import to_rgba\n",
    "import numpy as np\n",
    "import pandas as pd\n",
    "\n",
    "import torch\n",
    "from torch import nn\n",
    "from torch import optim\n",
    "from torch import tensor\n",
    "from torch.utils.data import Dataset, DataLoader\n",
    "\n",
    "from sklearn.model_selection import train_test_split\n",
    "\n",
    "%matplotlib inline"
   ]
  },
  {
   "cell_type": "markdown",
   "metadata": {},
   "source": [
    "# Preparando a base de Dados"
   ]
  },
  {
   "cell_type": "code",
   "execution_count": 101,
   "metadata": {},
   "outputs": [],
   "source": [
    "df = pd.read_csv('./rice.csv', header=None)\n",
    "\n",
    "y = df.iloc[0:, 7].values\n",
    "y = np.where(y == 'Cammeo', -1, 1) # realizado o tratamento do classe categorica (string -> int)\n",
    "\n",
    "\n",
    "X = df.iloc[0:, [2,3,4,6]].values # atributos utilizados"
   ]
  },
  {
   "cell_type": "markdown",
   "metadata": {},
   "source": [
    "# Divisão do base em treino e teste"
   ]
  },
  {
   "cell_type": "code",
   "execution_count": 102,
   "metadata": {},
   "outputs": [],
   "source": [
    "(X_train, X_test, y_train, y_test) = train_test_split(X, y, test_size=0.20, random_state=102) # 80% treinamento 20% teste\n",
    "\n",
    "X_train = torch.tensor(X_train, dtype=torch.float32)\n",
    "X_test = torch.tensor(X_test, dtype=torch.float32)\n",
    "y_train = torch.tensor(y_train, dtype=torch.float32).reshape(-1, 1)\n",
    "y_test = torch.tensor(y_test, dtype=torch.float32).reshape(-1, 1)"
   ]
  },
  {
   "cell_type": "markdown",
   "metadata": {},
   "source": [
    "# Modelo"
   ]
  },
  {
   "cell_type": "code",
   "execution_count": 103,
   "metadata": {},
   "outputs": [],
   "source": [
    "LEARNING_RATE = 0.001\n",
    "\n",
    "in_features = 4\n",
    "hidden_dim = 5\n",
    "hidden_dim2 = 5\n",
    "out_features = 1\n",
    "\n",
    "\n",
    "modelRNA = nn.Sequential(\n",
    "    nn.Linear(in_features, hidden_dim),\n",
    "    nn.LeakyReLU(),\n",
    "    nn.Linear(hidden_dim, hidden_dim2),\n",
    "    nn.LeakyReLU(),\n",
    "    nn.Linear(hidden_dim2, out_features)\n",
    ")\n",
    "\n",
    "loss_function = nn.MSELoss()\n",
    "optimizer = optim.SGD(modelRNA.parameters(), \n",
    "                      lr=LEARNING_RATE)"
   ]
  },
  {
   "cell_type": "markdown",
   "metadata": {},
   "source": [
    "# Treinando o modelo"
   ]
  },
  {
   "cell_type": "code",
   "execution_count": 104,
   "metadata": {},
   "outputs": [
    {
     "name": "stdout",
     "output_type": "stream",
     "text": [
      "[INFO] Treinamento será realizado com cpu...\n",
      "Época   | Loss\n",
      " 0      | 0.792\n",
      "999     | 0.307\n"
     ]
    }
   ],
   "source": [
    "Loss = []\n",
    "BATCH_SIZE = 2\n",
    "EPOCHS = 1000\n",
    "\n",
    "# determine the device we will be using for training\n",
    "DEVICE = \"cuda\" if torch.cuda.is_available() else \"cpu\"\n",
    "print(\"[INFO] Treinamento será realizado com {}...\".format(DEVICE))\n",
    "\n",
    "for epoch in range(EPOCHS):\n",
    "  \n",
    "  indices = np.arange(X_train.shape[0])\n",
    "  np.random.shuffle(indices)\n",
    "  X_train = X_train[indices]\n",
    "  y_train = y_train[indices]\n",
    "\n",
    "  custo = 0\n",
    "\n",
    "  for i in range(0, len(X_train), BATCH_SIZE):\n",
    "    Xbatch = X_train[i:i+BATCH_SIZE]\n",
    "    ybatch = y_train[i:i+BATCH_SIZE]\n",
    "\n",
    "    y_pred = modelRNA(Xbatch)\n",
    "\n",
    "    loss = loss_function(y_pred, ybatch)\n",
    "    custo += loss.detach()\n",
    "    optimizer.zero_grad()\n",
    "    loss.backward()\n",
    "    optimizer.step()\n",
    "\n",
    "  if epoch == 0:\n",
    "    print(\"Época   | Loss\")\n",
    "    print(f\"{epoch:^4}    | {loss:.3}\")\n",
    "  Loss.append(custo)\n",
    "print(f\"{epoch:^4}    | {loss:.3}\")"
   ]
  },
  {
   "cell_type": "code",
   "execution_count": 105,
   "metadata": {},
   "outputs": [
    {
     "data": {
      "image/png": "[encoded data removed]",
      "text/plain": [
       "<Figure size 640x480 with 1 Axes>"
      ]
     },
     "metadata": {},
     "output_type": "display_data"
    }
   ],
   "source": [
    "plt.plot(Loss)\n",
    "plt.xlabel(\"epochs\")\n",
    "plt.ylabel(\"loss values\")\n",
    "plt.show()"
   ]
  },
  {
   "cell_type": "markdown",
   "metadata": {},
   "source": [
    "# Precisão do modelo com a base de teste"
   ]
  },
  {
   "cell_type": "code",
   "execution_count": 106,
   "metadata": {},
   "outputs": [
    {
     "name": "stdout",
     "output_type": "stream",
     "text": [
      "Precisão depois treinamento 69.16%\n"
     ]
    }
   ],
   "source": [
    "y_pred = modelRNA(X_test)\n",
    "accuracy = (torch.round(y_pred) - y_test == 0).float().mean()\n",
    "print(f\"Precisão depois treinamento {accuracy*100:.2f}%\")"
   ]
  }
 ],
 "metadata": {
  "kernelspec": {
   "display_name": "Python 3",
   "language": "python",
   "name": "python3"
  },
  "language_info": {
   "codemirror_mode": {
    "name": "ipython",
    "version": 3
   },
   "file_extension": ".py",
   "mimetype": "text/x-python",
   "name": "python",
   "nbconvert_exporter": "python",
   "pygments_lexer": "ipython3",
   "version": "3.11.3"
  }
 },
 "nbformat": 4,
 "nbformat_minor": 2
}
